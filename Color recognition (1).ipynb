{
 "cells": [
  {
   "cell_type": "code",
   "execution_count": 1,
   "id": "e185db90",
   "metadata": {},
   "outputs": [],
   "source": [
    "from sklearn.cluster import KMeans\n",
    "import matplotlib.pyplot as plt\n",
    "import numpy as np\n",
    "import cv2\n",
    "import utils\n",
    "import argparse\n",
    "import webcolors\n",
    "import numpy as np\n",
    "import cv2\n",
    "\n",
    "%matplotlib inline"
   ]
  },
  {
   "cell_type": "code",
   "execution_count": 2,
   "id": "521a66ec",
   "metadata": {},
   "outputs": [
    {
     "ename": "NameError",
     "evalue": "name 'image' is not defined",
     "output_type": "error",
     "traceback": [
      "\u001b[1;31m---------------------------------------------------------------------------\u001b[0m",
      "\u001b[1;31mNameError\u001b[0m                                 Traceback (most recent call last)",
      "Cell \u001b[1;32mIn[2], line 2\u001b[0m\n\u001b[0;32m      1\u001b[0m \u001b[38;5;66;03m# reshape the image to be a list of pixels\u001b[39;00m\n\u001b[1;32m----> 2\u001b[0m image \u001b[38;5;241m=\u001b[39m \u001b[43mimage\u001b[49m\u001b[38;5;241m.\u001b[39mreshape((image\u001b[38;5;241m.\u001b[39mshape[\u001b[38;5;241m0\u001b[39m] \u001b[38;5;241m*\u001b[39m image\u001b[38;5;241m.\u001b[39mshape[\u001b[38;5;241m1\u001b[39m], \u001b[38;5;241m3\u001b[39m))\n\u001b[0;32m      3\u001b[0m \u001b[38;5;66;03m# cluster the pixel intensities\u001b[39;00m\n\u001b[0;32m      4\u001b[0m clt \u001b[38;5;241m=\u001b[39m KMeans(n_clusters \u001b[38;5;241m=\u001b[39m\u001b[38;5;241m3\u001b[39m)\n",
      "\u001b[1;31mNameError\u001b[0m: name 'image' is not defined"
     ]
    }
   ],
   "source": [
    "\n",
    "# reshape the image to be a list of pixels\n",
    "image = image.reshape((image.shape[0] * image.shape[1], 3))\n",
    "# cluster the pixel intensities\n",
    "clt = KMeans(n_clusters =3)\n",
    "clt.fit(image)"
   ]
  },
  {
   "cell_type": "code",
   "execution_count": null,
   "id": "3dcb9386",
   "metadata": {},
   "outputs": [],
   "source": [
    "# build a histogram of clusters and then create a figure\n",
    "# representing the number of pixels labeled to each color\n",
    "hist = centroid_histogram(clt)\n",
    "bar = plot_colors(hist, clt.cluster_centers_)\n",
    "# show our color bart\n",
    "plt.figure()\n",
    "plt.axis(\"off\")\n",
    "plt.imshow(bar)\n",
    "plt.show()"
   ]
  },
  {
   "cell_type": "code",
   "execution_count": 3,
   "id": "ed2b7d74",
   "metadata": {},
   "outputs": [],
   "source": [
    "class colour:\n",
    "    def __init__(self,path):\n",
    "        self.path = path\n",
    "        self.bar = bar\n",
    "        #self.image = image\n",
    "        self.colour = colour\n",
    "        self.percent = percent\n",
    "    \n",
    "    def closest_colour(self,requested_colour):\n",
    "        min_colours = {}\n",
    "        for key, name in webcolors.CSS3_HEX_TO_NAMES.items():\n",
    "            r_c, g_c, b_c = webcolors.hex_to_rgb(key)\n",
    "            rd = (r_c - requested_colour[0]) ** 2\n",
    "            gd = (g_c - requested_colour[1]) ** 2\n",
    "            bd = (b_c - requested_colour[2]) ** 2\n",
    "            min_colours[(rd + gd + bd)] = name\n",
    "        return min_colours[min(min_colours.keys())]\n",
    "\n",
    "    def get_colour_name(self,requested_colour):\n",
    "        try:\n",
    "            closest_name = actual_name = webcolors.rgb_to_name(requested_colour)\n",
    "        except ValueError:\n",
    "            closest_name = self.closest_colour(requested_colour)\n",
    "            actual_name = None\n",
    "        return actual_name, closest_name\n",
    "    \n",
    "    # load the image and convert it from BGR to RGB so that\n",
    "    # we can dispaly it with matplotlib\n",
    "    def crop_image(self,path):\n",
    "        image = cv2.imread(path)\n",
    "        center = image.shape\n",
    "        y=500\n",
    "        x=250\n",
    "        h=500\n",
    "        w=1500\n",
    "        #print(h,w)\n",
    "        crop_img=image[y:y+h,x:x+w]\n",
    "        image = cv2.cvtColor(crop_img, cv2.COLOR_BGR2RGB)\n",
    "        # show our image\n",
    "        plt.figure()\n",
    "        plt.axis(\"off\")\n",
    "        plt.imshow(image)\n",
    "        return image\n",
    "    \n",
    "    # import the necessary packages\n",
    "    def centroid_histogram(self,clt):\n",
    "        # grab the number of different clusters and create a histogram\n",
    "        # based on the number of pixels assigned to each cluster\n",
    "        numLabels = np.arange(0, len(np.unique(clt.labels_)) + 1)\n",
    "        (hist, _) = np.histogram(clt.labels_, bins = numLabels)\n",
    "        # normalize the histogram, such that it sums to one\n",
    "        hist = hist.astype(\"float\")\n",
    "        hist /= hist.sum()\n",
    "        # return the histogram\n",
    "        return hist\n",
    "    \n",
    "    def plot_colors(self,hist, centroids):\n",
    "        # initialize the bar chart representing the relative frequency\n",
    "        # of each of the colors\n",
    "        bar = np.zeros((50, 300, 3), dtype = \"uint8\")\n",
    "        startX = 0\n",
    "        # loop over the percentage of each cluster and the color of\n",
    "        # each cluster\n",
    "        max = 0\n",
    "        max_colour = 0.000\n",
    "        for (percent, color) in zip(hist, centroids):\n",
    "            # plot the relative percentage of each cluster\n",
    "            if percent > max:\n",
    "                max = percent\n",
    "                max_colour = self.get_colour_name(color.astype(\"uint8\").tolist())\n",
    "            #print(get_colour_name(color.astype(\"uint8\").tolist()),percent)\n",
    "            endX = startX + (percent * 300)\n",
    "            cv2.rectangle(bar, (int(startX), 0), (int(endX), 50),\n",
    "                color.astype(\"uint8\").tolist(), -1)\n",
    "            startX = endX\n",
    "        return bar, max_colour\n",
    "    \n",
    "\n",
    "    "
   ]
  },
  {
   "cell_type": "code",
   "execution_count": 4,
   "id": "6d5d400f",
   "metadata": {},
   "outputs": [
    {
     "ename": "TypeError",
     "evalue": "crop_image() missing 1 required positional argument: 'path'",
     "output_type": "error",
     "traceback": [
      "\u001b[1;31m---------------------------------------------------------------------------\u001b[0m",
      "\u001b[1;31mTypeError\u001b[0m                                 Traceback (most recent call last)",
      "Cell \u001b[1;32mIn[4], line 1\u001b[0m\n\u001b[1;32m----> 1\u001b[0m image \u001b[38;5;241m=\u001b[39m \u001b[43mcolour\u001b[49m\u001b[38;5;241;43m.\u001b[39;49m\u001b[43mcrop_image\u001b[49m\u001b[43m(\u001b[49m\u001b[38;5;124;43m\"\u001b[39;49m\u001b[38;5;124;43mD:/joaogonc/MODELOS_teste/CLA/img_0_0_214.jpg\u001b[39;49m\u001b[38;5;124;43m\"\u001b[39;49m\u001b[43m)\u001b[49m\n\u001b[0;32m      4\u001b[0m \u001b[38;5;66;03m# reshape the image to be a list of pixels\u001b[39;00m\n\u001b[0;32m      5\u001b[0m image \u001b[38;5;241m=\u001b[39m image\u001b[38;5;241m.\u001b[39mreshape((image\u001b[38;5;241m.\u001b[39mshape[\u001b[38;5;241m0\u001b[39m] \u001b[38;5;241m*\u001b[39m image\u001b[38;5;241m.\u001b[39mshape[\u001b[38;5;241m1\u001b[39m], \u001b[38;5;241m3\u001b[39m))\n",
      "\u001b[1;31mTypeError\u001b[0m: crop_image() missing 1 required positional argument: 'path'"
     ]
    }
   ],
   "source": [
    "image = colour.crop_image(\"D:/joaogonc/MODELOS_teste/CLA/img_0_0_214.jpg\")\n",
    "\n",
    "\n",
    "# reshape the image to be a list of pixels\n",
    "image = image.reshape((image.shape[0] * image.shape[1], 3))\n",
    "# cluster the pixel intensities\n",
    "clt = KMeans(n_clusters =3)\n",
    "clt.fit(image)\n",
    "\n",
    "# build a histogram of clusters and then create a figure\n",
    "# representing the number of pixels labeled to each color\n",
    "hist = colour.centroid_histogram(clt)\n",
    "bar = colour.plot_colors(hist, clt.cluster_centers_)\n",
    "\n"
   ]
  },
  {
   "cell_type": "code",
   "execution_count": null,
   "id": "48ff6ccf",
   "metadata": {},
   "outputs": [],
   "source": []
  },
  {
   "cell_type": "code",
   "execution_count": null,
   "id": "0684cb9d",
   "metadata": {},
   "outputs": [],
   "source": []
  },
  {
   "cell_type": "code",
   "execution_count": null,
   "id": "509955cd",
   "metadata": {},
   "outputs": [],
   "source": []
  },
  {
   "cell_type": "code",
   "execution_count": null,
   "id": "c5418854",
   "metadata": {},
   "outputs": [],
   "source": []
  }
 ],
 "metadata": {
  "kernelspec": {
   "display_name": "Python 3 (ipykernel)",
   "language": "python",
   "name": "python3"
  },
  "language_info": {
   "codemirror_mode": {
    "name": "ipython",
    "version": 3
   },
   "file_extension": ".py",
   "mimetype": "text/x-python",
   "name": "python",
   "nbconvert_exporter": "python",
   "pygments_lexer": "ipython3",
   "version": "3.9.17"
  }
 },
 "nbformat": 4,
 "nbformat_minor": 5
}
